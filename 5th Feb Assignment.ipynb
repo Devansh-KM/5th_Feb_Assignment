{
 "cells": [
  {
   "cell_type": "markdown",
   "id": "609f036a",
   "metadata": {},
   "source": [
    "#### Q1. Explain Class and Object with respect to Object-Oriented Programming. Give a suitable example. "
   ]
  },
  {
   "cell_type": "markdown",
   "id": "61575757",
   "metadata": {},
   "source": [
    "Class:\n",
    "A class is a template or blueprint from which objects are created. It is a logical representation of the data and behavior of an object. It serves as an outline of the properties and methods that an object can have.\n",
    "\n",
    "Object:\n",
    "An object is an instance of a class. It is a real world entity that has certain characteristics and behavior. It is an independent, self-contained entity that has properties and methods.\n",
    "\n",
    "Example:\n",
    "Let's consider a Car class. A car is an object that has certain characteristics like color, make, model, etc. It also has certain behavior like start, stop, accelerate, etc. So, we can create a Car class with the properties and methods for a car. Then, we can create individual objects of the Car class like a red Honda Civic or a blue Toyota Corolla."
   ]
  },
  {
   "cell_type": "code",
   "execution_count": 8,
   "id": "04d2054d",
   "metadata": {},
   "outputs": [],
   "source": [
    "class Car: \n",
    "    def __init__(self, color, make, model): \n",
    "        self.color = color \n",
    "        self.make = make \n",
    "        self.model = model \n",
    "    \n",
    "    def start(self): \n",
    "        print(\"Car started\") \n",
    "    \n",
    "    def stop(self): \n",
    "        print(\"Car stopped\") "
   ]
  },
  {
   "cell_type": "code",
   "execution_count": 9,
   "id": "288be57a",
   "metadata": {},
   "outputs": [],
   "source": [
    "honda = Car(\"red\", \"Honda\", \"Civic\") \n",
    "toyota = Car(\"blue\", \"Toyota\", \"Corolla\")"
   ]
  },
  {
   "cell_type": "code",
   "execution_count": 10,
   "id": "3097ddbf",
   "metadata": {},
   "outputs": [
    {
     "data": {
      "text/plain": [
       "'red'"
      ]
     },
     "execution_count": 10,
     "metadata": {},
     "output_type": "execute_result"
    }
   ],
   "source": [
    "honda.color"
   ]
  },
  {
   "cell_type": "code",
   "execution_count": 11,
   "id": "d07b4da2",
   "metadata": {},
   "outputs": [
    {
     "name": "stdout",
     "output_type": "stream",
     "text": [
      "Car started\n"
     ]
    }
   ],
   "source": [
    "toyota.start()"
   ]
  },
  {
   "cell_type": "markdown",
   "id": "7c5e4636",
   "metadata": {},
   "source": [
    "#### Q2. Name the four pillars of OOPs.\n",
    "\n",
    "1. Encapsulation: Encapsulation is a process of binding data and the functions that manipulate it together. It is the most important pillar of object-oriented programming which helps to make the code easily maintainable, reusable and extensible.\n",
    "\n",
    "2. Abstraction: Abstraction is a process of hiding the implementation details from the user and only providing the essential functionalities. It is used to reduce the complexity of the program and make it easier to understand.\n",
    "\n",
    "3. Inheritance: Inheritance is a process of creating a new class from an existing class. It helps to reuse the existing code and avoid code redundancy. It also helps to create a hierarchical structure of the classes.\n",
    "\n",
    "4. Polymorphism: Polymorphism is a process of using an operator or a function in different ways to perform different operations. It helps to reduce the complexity of the code and make it more readable."
   ]
  },
  {
   "cell_type": "markdown",
   "id": "859146a0",
   "metadata": {},
   "source": [
    "#### Q3. Explain why the __init__() function is used. Give a suitable example.\n",
    "\n",
    "\n",
    "The __init__() function is used to initialize an object's state when it is created. It is commonly used to set the initial values of instance variables. For example, in a class representing a student, an __init__() function could be used to set the student's name, age, and grade level."
   ]
  },
  {
   "cell_type": "markdown",
   "id": "505e9382",
   "metadata": {},
   "source": [
    "#### Q4 Why self is used in OOPs?\n",
    "\n",
    "In object-oriented programming (OOP), the self keyword is used to refer to the current instance of a class. It is a type of variable that holds the instance of the class and is used to access the attributes and methods of the class. By using the self keyword, programmers can access the attributes and methods of the class in a different method."
   ]
  },
  {
   "cell_type": "markdown",
   "id": "99262cdb",
   "metadata": {},
   "source": [
    "#### Q5 What is inheritance? Give an example for each type of inheritance.\n",
    "\n",
    "Inheritance is a way of creating new classes using classes that have already been defined. It allows us to reuse and extend the existing code without having to rewrite it.\n",
    "\n",
    "In Python, inheritance works by passing a class a parent class as an argument in parentheses when defining the class. This tells Python to inherit, or reuse, all the attributes and methods from the parent class in the child class. \n",
    "\n",
    "There are three types of inheritance in Python: single inheritance, multiple inheritance, and hierarchical inheritance. "
   ]
  },
  {
   "cell_type": "code",
   "execution_count": null,
   "id": "3d45f2f6",
   "metadata": {},
   "outputs": [],
   "source": []
  }
 ],
 "metadata": {
  "kernelspec": {
   "display_name": "Python 3 (ipykernel)",
   "language": "python",
   "name": "python3"
  },
  "language_info": {
   "codemirror_mode": {
    "name": "ipython",
    "version": 3
   },
   "file_extension": ".py",
   "mimetype": "text/x-python",
   "name": "python",
   "nbconvert_exporter": "python",
   "pygments_lexer": "ipython3",
   "version": "3.9.13"
  }
 },
 "nbformat": 4,
 "nbformat_minor": 5
}
